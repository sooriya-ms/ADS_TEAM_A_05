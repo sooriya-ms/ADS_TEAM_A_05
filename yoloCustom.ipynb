{
 "cells": [
  {
   "cell_type": "code",
   "execution_count": 1,
   "metadata": {},
   "outputs": [
    {
     "name": "stdout",
     "output_type": "stream",
     "text": [
      "Using Device:  cpu\n"
     ]
    }
   ],
   "source": [
    "import torch\n",
    "import numpy as np\n",
    "from ultralytics import YOLO\n",
    "\n",
    "device = 'cuda' if torch.cuda.is_available() else 'cpu'\n",
    "print(\"Using Device: \", device)"
   ]
  },
  {
   "cell_type": "code",
   "execution_count": 2,
   "metadata": {},
   "outputs": [
    {
     "name": "stdout",
     "output_type": "stream",
     "text": [
      "loading Roboflow workspace...\n",
      "loading Roboflow project...\n",
      "Dependency ultralytics==8.0.196 is required but found version=8.0.210, to fix: `pip install ultralytics==8.0.196`\n"
     ]
    },
    {
     "name": "stderr",
     "output_type": "stream",
     "text": [
      "Downloading Dataset Version Zip in shogi(New-dataset)-6 to yolov8:: 100%|██████████| 103261/103261 [00:08<00:00, 12369.92it/s]"
     ]
    },
    {
     "name": "stdout",
     "output_type": "stream",
     "text": [
      "\n"
     ]
    },
    {
     "name": "stderr",
     "output_type": "stream",
     "text": [
      "\n",
      "Extracting Dataset Version Zip to shogi(New-dataset)-6 in yolov8:: 100%|██████████| 5052/5052 [00:01<00:00, 3409.62it/s]\n"
     ]
    }
   ],
   "source": [
    "from roboflow import Roboflow\n",
    "rf = Roboflow(api_key=\"VwLwTq0h8gTrUe39f6cP\")\n",
    "project = rf.workspace(\"project-z5o6f\").project(\"shogi-new-dataset\")\n",
    "dataset = project.version(6).download(\"yolov8\")"
   ]
  },
  {
   "cell_type": "code",
   "execution_count": 14,
   "metadata": {},
   "outputs": [
    {
     "name": "stderr",
     "output_type": "stream",
     "text": [
      "Ultralytics YOLOv8.0.210  Python-3.10.1 torch-2.1.1+cu118 CPU (12th Gen Intel Core(TM) i7-12700)\n",
      "\u001b[34m\u001b[1mengine\\trainer: \u001b[0mtask=detect, mode=train, model=yolov8n.pt, data=data.yaml, epochs=1, patience=50, batch=8, imgsz=640, save=True, save_period=-1, cache=False, device=None, workers=8, project=None, name=yolov8n_1e_8b_11, exist_ok=False, pretrained=True, optimizer=auto, verbose=True, seed=0, deterministic=True, single_cls=False, rect=False, cos_lr=False, close_mosaic=10, resume=False, amp=True, fraction=1.0, profile=False, freeze=None, overlap_mask=True, mask_ratio=4, dropout=0.0, val=True, split=val, save_json=False, save_hybrid=False, conf=None, iou=0.7, max_det=300, half=False, dnn=False, plots=True, source=None, show=False, save_txt=False, save_conf=False, save_crop=False, show_labels=True, show_conf=True, vid_stride=1, stream_buffer=False, line_width=None, visualize=False, augment=False, agnostic_nms=False, classes=None, retina_masks=False, boxes=True, format=torchscript, keras=False, optimize=False, int8=False, dynamic=False, simplify=False, opset=None, workspace=4, nms=False, lr0=0.01, lrf=0.01, momentum=0.937, weight_decay=0.0005, warmup_epochs=3.0, warmup_momentum=0.8, warmup_bias_lr=0.1, box=7.5, cls=0.5, dfl=1.5, pose=12.0, kobj=1.0, label_smoothing=0.0, nbs=64, hsv_h=0.015, hsv_s=0.7, hsv_v=0.4, degrees=0.0, translate=0.1, scale=0.5, shear=0.0, perspective=0.0, flipud=0.0, fliplr=0.5, mosaic=1.0, mixup=0.0, copy_paste=0.0, cfg=None, tracker=botsort.yaml, save_dir=runs\\detect\\yolov8n_1e_8b_11\n",
      "Downloading https://ultralytics.com/assets/Arial.ttf to 'C:\\Users\\student.MCC\\AppData\\Roaming\\Ultralytics\\Arial.ttf'...\n",
      "100%|██████████| 755k/755k [00:00<00:00, 4.07MB/s]\n",
      "Overriding model.yaml nc=80 with nc=15\n",
      "\n",
      "                   from  n    params  module                                       arguments                     \n",
      "  0                  -1  1       464  ultralytics.nn.modules.conv.Conv             [3, 16, 3, 2]                 \n",
      "  1                  -1  1      4672  ultralytics.nn.modules.conv.Conv             [16, 32, 3, 2]                \n",
      "  2                  -1  1      7360  ultralytics.nn.modules.block.C2f             [32, 32, 1, True]             \n",
      "  3                  -1  1     18560  ultralytics.nn.modules.conv.Conv             [32, 64, 3, 2]                \n",
      "  4                  -1  2     49664  ultralytics.nn.modules.block.C2f             [64, 64, 2, True]             \n",
      "  5                  -1  1     73984  ultralytics.nn.modules.conv.Conv             [64, 128, 3, 2]               \n",
      "  6                  -1  2    197632  ultralytics.nn.modules.block.C2f             [128, 128, 2, True]           \n",
      "  7                  -1  1    295424  ultralytics.nn.modules.conv.Conv             [128, 256, 3, 2]              \n",
      "  8                  -1  1    460288  ultralytics.nn.modules.block.C2f             [256, 256, 1, True]           \n",
      "  9                  -1  1    164608  ultralytics.nn.modules.block.SPPF            [256, 256, 5]                 \n",
      " 10                  -1  1         0  torch.nn.modules.upsampling.Upsample         [None, 2, 'nearest']          \n",
      " 11             [-1, 6]  1         0  ultralytics.nn.modules.conv.Concat           [1]                           \n",
      " 12                  -1  1    148224  ultralytics.nn.modules.block.C2f             [384, 128, 1]                 \n",
      " 13                  -1  1         0  torch.nn.modules.upsampling.Upsample         [None, 2, 'nearest']          \n",
      " 14             [-1, 4]  1         0  ultralytics.nn.modules.conv.Concat           [1]                           \n",
      " 15                  -1  1     37248  ultralytics.nn.modules.block.C2f             [192, 64, 1]                  \n",
      " 16                  -1  1     36992  ultralytics.nn.modules.conv.Conv             [64, 64, 3, 2]                \n",
      " 17            [-1, 12]  1         0  ultralytics.nn.modules.conv.Concat           [1]                           \n",
      " 18                  -1  1    123648  ultralytics.nn.modules.block.C2f             [192, 128, 1]                 \n",
      " 19                  -1  1    147712  ultralytics.nn.modules.conv.Conv             [128, 128, 3, 2]              \n",
      " 20             [-1, 9]  1         0  ultralytics.nn.modules.conv.Concat           [1]                           \n",
      " 21                  -1  1    493056  ultralytics.nn.modules.block.C2f             [384, 256, 1]                 \n",
      " 22        [15, 18, 21]  1    754237  ultralytics.nn.modules.head.Detect           [15, [64, 128, 256]]          \n",
      "Model summary: 225 layers, 3013773 parameters, 3013757 gradients, 8.2 GFLOPs\n",
      "\n",
      "Transferred 319/355 items from pretrained weights\n",
      "Freezing layer 'model.22.dfl.conv.weight'\n",
      "\u001b[34m\u001b[1mtrain: \u001b[0mScanning C:\\shogi\\Shogi\\dataset\\train\\labels... 2205 images, 0 backgrounds, 0 corrupt: 100%|██████████| 2205/2205 [00:04<00:00, 540.98it/s]\n",
      "\u001b[34m\u001b[1mtrain: \u001b[0mNew cache created: C:\\shogi\\Shogi\\dataset\\train\\labels.cache\n",
      "\u001b[34m\u001b[1mval: \u001b[0mScanning C:\\shogi\\Shogi\\dataset\\valid\\labels... 211 images, 1 backgrounds, 0 corrupt: 100%|██████████| 211/211 [00:00<00:00, 512.48it/s]\n",
      "\u001b[34m\u001b[1mval: \u001b[0mNew cache created: C:\\shogi\\Shogi\\dataset\\valid\\labels.cache\n",
      "Plotting labels to runs\\detect\\yolov8n_1e_8b_11\\labels.jpg... \n",
      "\u001b[34m\u001b[1moptimizer:\u001b[0m 'optimizer=auto' found, ignoring 'lr0=0.01' and 'momentum=0.937' and determining best 'optimizer', 'lr0' and 'momentum' automatically... \n",
      "\u001b[34m\u001b[1moptimizer:\u001b[0m AdamW(lr=0.000526, momentum=0.9) with parameter groups 57 weight(decay=0.0), 64 weight(decay=0.0005), 63 bias(decay=0.0)\n",
      "Image sizes 640 train, 640 val\n",
      "Using 0 dataloader workers\n",
      "Logging results to \u001b[1mruns\\detect\\yolov8n_1e_8b_11\u001b[0m\n",
      "Starting training for 1 epochs...\n",
      "\n",
      "      Epoch    GPU_mem   box_loss   cls_loss   dfl_loss  Instances       Size\n",
      "        1/1         0G      1.933      5.094      1.217          7        640: 100%|██████████| 276/276 [10:08<00:00,  2.20s/it]\n",
      "                 Class     Images  Instances      Box(P          R      mAP50  mAP50-95): 100%|██████████| 14/14 [00:18<00:00,  1.31s/it]\n",
      "                   all        211        210      0.406      0.457      0.405      0.258\n",
      "\n",
      "1 epochs completed in 0.175 hours.\n",
      "Optimizer stripped from runs\\detect\\yolov8n_1e_8b_11\\weights\\last.pt, 6.3MB\n",
      "Optimizer stripped from runs\\detect\\yolov8n_1e_8b_11\\weights\\best.pt, 6.3MB\n",
      "\n",
      "Validating runs\\detect\\yolov8n_1e_8b_11\\weights\\best.pt...\n",
      "Ultralytics YOLOv8.0.210  Python-3.10.1 torch-2.1.1+cu118 CPU (12th Gen Intel Core(TM) i7-12700)\n",
      "Model summary (fused): 168 layers, 3008573 parameters, 0 gradients, 8.1 GFLOPs\n",
      "                 Class     Images  Instances      Box(P          R      mAP50  mAP50-95): 100%|██████████| 14/14 [00:15<00:00,  1.09s/it]\n",
      "                   all        211        210      0.406      0.453      0.405      0.257\n",
      "                Bishop        211         14          1          0      0.335      0.186\n",
      "       Bishop_promoted        211         13      0.067      0.462      0.131     0.0758\n",
      "           Goldgeneral        211         15          1          0     0.0573     0.0314\n",
      "            King_Black        211         14      0.749      0.857      0.815       0.57\n",
      "            King_White        211         14      0.346          1      0.894      0.683\n",
      "       Knight_promoted        211         14      0.721      0.922      0.888      0.527\n",
      "                 Lance        211         14      0.119      0.446      0.161      0.102\n",
      "        Lance_Promoted        211         14          1          0      0.799      0.455\n",
      "         Pawn_promoted        211         14        0.5      0.857       0.75      0.415\n",
      "                  Rook        211         14     0.0482      0.105       0.17      0.111\n",
      "         Rook_promoted        211         14      0.154        0.5      0.153     0.0941\n",
      "        Silver_General        211         14          0          0     0.0961     0.0631\n",
      "Silver_General_Promoted        211         14       0.26      0.857      0.617      0.418\n",
      "                knight        211         14     0.0201     0.0714     0.0765     0.0357\n",
      "                  pawn        211         14      0.109      0.714      0.133     0.0925\n",
      "Speed: 1.8ms preprocess, 64.1ms inference, 0.0ms loss, 0.7ms postprocess per image\n",
      "Results saved to \u001b[1mruns\\detect\\yolov8n_1e_8b_11\u001b[0m\n"
     ]
    }
   ],
   "source": [
    "model = YOLO('yolov8n.pt')\n",
    "\n",
    "results = model.train(\n",
    "   data='data.yaml',\n",
    "   imgsz=640,\n",
    "   epochs=1,\n",
    "   batch=8,\n",
    "   name='yolov8n_1e_8b_')\n",
    "\n",
    "# yolo task=detect mode=val model=yolo_version_5/runs/detect/yolov8n_custom6/weights/best.pt name=yolov8n_eval data=data.yaml imgsz=1280"
   ]
  },
  {
   "cell_type": "code",
   "execution_count": null,
   "metadata": {},
   "outputs": [],
   "source": [
    "from ultralytics import YOLO\n",
    "import cv2\n",
    "\n",
    "path = r\"C:\\shogi\\Shogi_video\\dim_shogi.mp4\"\n",
    "\n",
    "model = YOLO(\"C:\\shogi\\Shogi\\\\best.pt\")\n",
    "\n",
    "results = model.predict(source=path, save=True)"
   ]
  },
  {
   "cell_type": "code",
   "execution_count": null,
   "metadata": {},
   "outputs": [],
   "source": [
    "import os\n",
    "path = \"C:\\shogi\\Shogi_video\\\\17th\"\n",
    "dir_list = os.listdir(path)\n",
    "\n",
    "print(dir_list)\n",
    "\n",
    "from ultralytics import YOLO\n",
    "import cv2\n",
    "\n",
    "model = YOLO(\"C:\\shogi\\Shogi\\\\best.pt\")\n",
    "\n",
    "count = 1\n",
    "for i in dir_list:\n",
    "    print(count, \" ---- \", i)\n",
    "    path = f\"C:\\shogi\\Shogi_video\\\\17th\\{i}\"\n",
    "    results = model.predict(source=path, save=True)\n",
    "    count+=1"
   ]
  }
 ],
 "metadata": {
  "interpreter": {
   "hash": "b89b5cfaba6639976dc87ff2fec6d58faec662063367e2c229c520fe71072417"
  },
  "kernelspec": {
   "display_name": "Shogi (3.10)",
   "language": "python",
   "name": "python3"
  },
  "language_info": {
   "codemirror_mode": {
    "name": "ipython",
    "version": 3
   },
   "file_extension": ".py",
   "mimetype": "text/x-python",
   "name": "python",
   "nbconvert_exporter": "python",
   "pygments_lexer": "ipython3",
   "version": "3.10.1"
  },
  "orig_nbformat": 4
 },
 "nbformat": 4,
 "nbformat_minor": 2
}
